{
 "cells": [
  {
   "cell_type": "markdown",
   "metadata": {},
   "source": [
    "# Bookrentalshop on jupyternotebook"
   ]
  },
  {
   "cell_type": "markdown",
   "metadata": {},
   "source": [
    "# 만약 cx_oracle 모듈이 없으면 콘솔에서 설치할 것\n",
    "```shell\n",
    "> pip install cx_oracle\n",
    "```"
   ]
  },
  {
   "cell_type": "code",
   "execution_count": 15,
   "metadata": {},
   "outputs": [],
   "source": [
    "# cx_Oracle 모듈 첨부\n",
    "import cx_Oracle as ora\n"
   ]
  },
  {
   "cell_type": "markdown",
   "metadata": {},
   "source": [
    "### DB연결함수\n",
    "사용법\n",
    "```python\n",
    "myconn()\n",
    "```"
   ]
  },
  {
   "cell_type": "code",
   "execution_count": 12,
   "metadata": {},
   "outputs": [],
   "source": [
    "def myconn():\n",
    "    dsn = ora.makedsn('localhost', 1521, service_name='orcl')\n",
    "    conn = ora.connect(user='scott', password='tiger', dsn=dsn, encoding='utf-8')\n",
    "    return conn"
   ]
  },
  {
   "cell_type": "markdown",
   "metadata": {},
   "source": [
    "### CDivTBL 전체 조회함수\n",
    "```python\n",
    "getAlldataFromDivtbl(conn) #conn은 연결객체\n",
    "```"
   ]
  },
  {
   "cell_type": "code",
   "execution_count": 29,
   "metadata": {},
   "outputs": [],
   "source": [
    "def getAllDataFromDivtbl(conn) -> None:\n",
    "    cur = conn.cursor()\n",
    "    query = 'SELECT division, names FROM divtbl'\n",
    "\n",
    "    for row in cur.execute(query):\n",
    "        print(row)\n",
    "\n",
    "    cur.close()    "
   ]
  },
  {
   "cell_type": "code",
   "execution_count": 30,
   "metadata": {},
   "outputs": [
    {
     "name": "stdout",
     "output_type": "stream",
     "text": [
      "접속\n",
      "('I002', '자기계발')\n",
      "('B001', '공포/스릴러')\n",
      "('B002', '로맨스')\n",
      "('B003', '무협')\n",
      "('B004', '전쟁/역사')\n",
      "('B005', '추리')\n",
      "('B006', 'SF/판타지')\n",
      "('I001', '프로그래밍')\n"
     ]
    }
   ],
   "source": [
    "# DB연결 실행\n",
    "conn = myconn()\n",
    "print('접속')\n",
    "\n",
    "getAllDataFromDivtbl(conn)"
   ]
  },
  {
   "cell_type": "markdown",
   "metadata": {},
   "source": [
    "### 신규 장르 입력\n",
    "사용법 \n",
    "```python\n",
    "tup = (division, names)\n",
    "setDataIntoDivtvl(conn, tup)\n",
    "```"
   ]
  },
  {
   "cell_type": "code",
   "execution_count": null,
   "metadata": {},
   "outputs": [],
   "source": [
    "def setDataIntoDivtbl(conn, tup):\n",
    "    cur = conn.cursor()\n",
    "    query = 'INSERT INTO divtbl VALUES (:1, :2)'\n",
    "    cur.execute(query, tup)\n",
    "    conn.commit()\n",
    "    cur.close()\n",
    "\n",
    "division, names = input('장르코드, 장르명 입력(구분자 , )').split(',')\n",
    "tup = (division.strip(), names.strip())\n",
    "setDataIntoDivtbl(conn, tup)\n",
    "print('장르추가 성공')\n"
   ]
  },
  {
   "cell_type": "code",
   "execution_count": null,
   "metadata": {},
   "outputs": [],
   "source": [
    "getAllDataFromDivtbl(conn)"
   ]
  },
  {
   "cell_type": "code",
   "execution_count": 44,
   "metadata": {},
   "outputs": [],
   "source": [
    "def getAllDataFromBooktbl(conn) -> None:\n",
    "    cur = conn.cursor()       # 쿼리문 작성 시 공백 추가 \n",
    "    query = 'SELECT idx, author, division, names, ' \\\n",
    "            '       TO_CHAR(releasedate, \\'YYYY-MM-DD\\')'\\\n",
    "            ' FROM bookstbl ' \\\n",
    "            ' ORDER BY idx ASC '\n",
    "\n",
    "    for row in cur.execute(query):\n",
    "        print(row)\n",
    "\n",
    "    cur.close()  "
   ]
  },
  {
   "cell_type": "code",
   "execution_count": null,
   "metadata": {},
   "outputs": [],
   "source": [
    "getAllDataFromBooktbl(conn)"
   ]
  },
  {
   "cell_type": "code",
   "execution_count": 52,
   "metadata": {},
   "outputs": [],
   "source": [
    "def getDataFromBooktbl(conn) -> None:\n",
    "    names = input('검색할 책 이름을 입력하세요')\n",
    "    cur= conn.cursor()       # 쿼리문 작성 시 공백 추가 \n",
    "    query = 'SELECT idx, author, division, names, '\\\n",
    "            '       TO_CHAR(releasedate, \\'YYYY-MM-DD\\') ' \\\n",
    "            ' FROM bookstbl '  \\\n",
    "            f' WHERE names LIKE \\'%{names}%\\'  ' \\\n",
    "            ' ORDER BY idx ASC '\n",
    "\n",
    "    for row in cur.execute(query):\n",
    "        print(row)\n",
    "\n",
    "    cur.close() \n"
   ]
  },
  {
   "cell_type": "code",
   "execution_count": null,
   "metadata": {},
   "outputs": [],
   "source": [
    "getDataFromBooktbl(conn)"
   ]
  },
  {
   "cell_type": "markdown",
   "metadata": {},
   "source": [
    "### 삭제 함수\n",
    "사용법\n",
    "```python\n",
    "delDataFromDivtbl(conn)\n",
    "```"
   ]
  },
  {
   "cell_type": "code",
   "execution_count": 63,
   "metadata": {},
   "outputs": [],
   "source": [
    "def delDataFromDivtbl(conn):\n",
    "    division = input('삭제할 코드명 입력(예: I004)')\n",
    "    cur = conn.cursor()\n",
    "    query = 'DELETE FROM divtbl WHERE division = :1 '\n",
    "    tup = (division, ) # 튜플 하나는 왼쪽처럼 만들어야 함\n",
    "    cur.execute(query, tup)\n",
    "    conn.commit()\n",
    "    print('삭제 성공')\n",
    "    cur.close()"
   ]
  },
  {
   "cell_type": "code",
   "execution_count": 64,
   "metadata": {},
   "outputs": [
    {
     "name": "stdout",
     "output_type": "stream",
     "text": [
      "삭제 성공\n"
     ]
    }
   ],
   "source": [
    "delDataFromDivtbl(conn)"
   ]
  },
  {
   "cell_type": "code",
   "execution_count": null,
   "metadata": {},
   "outputs": [],
   "source": [
    "getDataFromBooktbl"
   ]
  }
 ],
 "metadata": {
  "interpreter": {
   "hash": "38ae1ba9371524da054e8e3fbefd778d16b5a8ac7937a3f395010f627bb73919"
  },
  "kernelspec": {
   "display_name": "Python 3.9.12 64-bit",
   "language": "python",
   "name": "python3"
  },
  "language_info": {
   "codemirror_mode": {
    "name": "ipython",
    "version": 3
   },
   "file_extension": ".py",
   "mimetype": "text/x-python",
   "name": "python",
   "nbconvert_exporter": "python",
   "pygments_lexer": "ipython3",
   "version": "3.9.12"
  },
  "orig_nbformat": 4
 },
 "nbformat": 4,
 "nbformat_minor": 2
}
