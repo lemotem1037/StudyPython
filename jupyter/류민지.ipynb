{
 "cells": [
  {
   "cell_type": "markdown",
   "metadata": {},
   "source": [
    "### 1번문제\n",
    "\n",
    "1. 반지름 값을 입력받아 원의 넓이를 구하여 출력하는 프로그램을 구현하세요. 파이는 3.141592 입니다."
   ]
  },
  {
   "cell_type": "code",
   "execution_count": 3,
   "metadata": {},
   "outputs": [
    {
     "name": "stdout",
     "output_type": "stream",
     "text": [
      "원의 넓이= 28.274328\n"
     ]
    }
   ],
   "source": [
    "# 1번 문제\n",
    "\n",
    "radius = float(input(\"반지름 값을 입력하세요:\"))\n",
    "area=3.141592*radius**2\n",
    "\n",
    "print(\"원의 넓이 =\",area)\n",
    "\n"
   ]
  },
  {
   "cell_type": "markdown",
   "metadata": {},
   "source": [
    "### 2번문제\n",
    "2. 태양계는 수성, 금성, 지구, 화성, 목성, 토성, 천왕성, 혜왕성, 명왕성으로 구성됩니다. 영어이름은 Mercury, Venus, Earth, Mars, Jupiter,  Saturn, Uranus, Neptune 입니다.  행성의 한글이름을 입력하면 영어행성명이 출력되는 프로그램을 구현하세요."
   ]
  },
  {
   "cell_type": "code",
   "execution_count": 53,
   "metadata": {},
   "outputs": [
    {
     "data": {
      "text/plain": [
       "'Venus'"
      ]
     },
     "execution_count": 53,
     "metadata": {},
     "output_type": "execute_result"
    }
   ],
   "source": [
    "# 2번 문제\n",
    "\n",
    "dic = {'수성': 'Mercury', '금성': 'Venus', '지구': 'Earth'\n",
    "     , '화성': 'Mars', '목성': 'Jupiter', '토성' : 'Saturn'\n",
    "     , '천왕성' : 'Uranus', '혜왕성': 'Neptune', '명왕성': 'Pluto'}\n",
    "name = input('찾을 행성의 한글 이름을 적으시오.')\n",
    "\n",
    "dic[name]"
   ]
  },
  {
   "cell_type": "markdown",
   "metadata": {},
   "source": [
    "### 3번문제\n",
    "입력한 한글 문자열의 단어의 수를 출력하는 프로그램을 구현하세요. 예) 흐르는 강물을 거꾸로 거슬러 오르는 연어들의 = 6  "
   ]
  },
  {
   "cell_type": "code",
   "execution_count": 60,
   "metadata": {},
   "outputs": [
    {
     "name": "stdout",
     "output_type": "stream",
     "text": [
      "출력하려는 문자열 입력하시오. : ')\n",
      "6\n",
      "\n"
     ]
    }
   ],
   "source": [
    "# 3번 문제\n",
    "\n",
    "print(input('단어의 수를 출력하려는 문자열 입력하시오. : '))\n",
    "print(len(txt.split(' ')))\n",
    "print('')"
   ]
  },
  {
   "cell_type": "markdown",
   "metadata": {},
   "source": [
    "#### 4번 문제 \n",
    "4. 입력한 수를 거꾸로 출력하는 프로그램을 구현하세요."
   ]
  },
  {
   "cell_type": "code",
   "execution_count": 76,
   "metadata": {},
   "outputs": [
    {
     "name": "stdout",
     "output_type": "stream",
     "text": [
      "2 9 5 4 1\n"
     ]
    }
   ],
   "source": [
    "# 4번 문제 - 1 문제의 예제를 입력한 수\n",
    "\n",
    "s = '1 4 5 9 2'\n",
    "s_reverse = '' \n",
    "for char in s:\n",
    "    s_reverse = char + s_reverse\n",
    "\n",
    "print(s_reverse) "
   ]
  },
  {
   "cell_type": "code",
   "execution_count": 67,
   "metadata": {},
   "outputs": [
    {
     "name": "stdout",
     "output_type": "stream",
     "text": [
      "76845\n"
     ]
    }
   ],
   "source": [
    "# 4번 문제 - 2 입력받은 수를 거꾸로 출력\n",
    "\n",
    "x = list(map(int,str(input())))\n",
    "x.reverse()\n",
    "n = \"\"\n",
    "for i in x:\n",
    "    n += str(i)\n",
    "print(n)"
   ]
  },
  {
   "cell_type": "markdown",
   "metadata": {},
   "source": [
    "#### 5번 문제 \n",
    "5. 구구단을 수행할 단번호를 입력하면 그 단의 9까지의 결과를 나열하는 프로그램을 입력하세요."
   ]
  },
  {
   "cell_type": "code",
   "execution_count": 91,
   "metadata": {},
   "outputs": [
    {
     "name": "stdout",
     "output_type": "stream",
     "text": [
      "--- 구구단 ---\n",
      " 5\t10\t15\t20\t25\t30\t35\t40\t45\t"
     ]
    }
   ],
   "source": [
    "# 5번 문제\n",
    "\n",
    "print('--- 구구단 ---')\n",
    "\n",
    "while True:\n",
    "    x = int(input('구구단을 수행할 단번호를 입력하시오 : '))\n",
    "    for y in range(1,10):\n",
    "        print(f'{x*y:2d}',end = '\\t')\n",
    "\n",
    "    break    "
   ]
  },
  {
   "cell_type": "code",
   "execution_count": null,
   "metadata": {},
   "outputs": [],
   "source": [
    "# 5번 문제\n",
    "\n",
    "print('--- 구구단 ---')\n",
    "while True:\n",
    "    num = int(input('구구단을 수행할 단번호를 입력하시오 : '))\n",
    "\n",
    "    for x in range (2, 10):   #2~9단 출력\n",
    "        for y in range (1,10):\n",
    "            print(f'{x*y:2d}', end= ' ')\n",
    "\n",
    "    print()\n",
    "\n",
    "    break"
   ]
  }
 ],
 "metadata": {
  "interpreter": {
   "hash": "38ae1ba9371524da054e8e3fbefd778d16b5a8ac7937a3f395010f627bb73919"
  },
  "kernelspec": {
   "display_name": "Python 3.9.12 64-bit",
   "language": "python",
   "name": "python3"
  },
  "language_info": {
   "codemirror_mode": {
    "name": "ipython",
    "version": 3
   },
   "file_extension": ".py",
   "mimetype": "text/x-python",
   "name": "python",
   "nbconvert_exporter": "python",
   "pygments_lexer": "ipython3",
   "version": "3.9.12"
  },
  "orig_nbformat": 4
 },
 "nbformat": 4,
 "nbformat_minor": 2
}
